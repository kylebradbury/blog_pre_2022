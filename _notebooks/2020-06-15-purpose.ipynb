{
 "cells": [
  {
   "cell_type": "markdown",
   "metadata": {},
   "source": [
    "# Purpose of this blog\n",
    "> Introduction the purpose and goals of this blog.\n",
    "\n",
    "- toc: false \n",
    "- badges: false\n",
    "- comments: false\n",
    "- categories: [news]\n",
    "- author: Kyle Bradbury\n",
    "- image: images/myimage.png"
   ]
  },
  {
   "cell_type": "markdown",
   "metadata": {},
   "source": [
    "> Writing is thinking. To write well is to think clearly. *David McCullough*\n",
    "\n",
    "Early in my career, I was told that writing was the single most important action I could take for clear thinking, creativity, and productivity. At the time, I promptly ignored that excellent advice and wrote when I had a deadline to meet and rarely more. If there's anything I've learned over my career thus far is how vitally important the act of writing is for clear and coherent thinking and for developing new ideas. \n",
    "\n",
    "I'm writing this blog, then, for two purposes: primarily to share some musings on machine learning, energy, and other research concepts that I hope may be of interest to others, perhaps even to you; secondarily in so doing I organize my own thoughts.\n",
    "\n",
    "This blog will be organized into three types of content:\n",
    "1. **Research** discussions and summaries on machine learning and/or energy systems.\n",
    "2. **Tutorials** on technical concepts relevant to machine learning, data science, and computational programming.\n",
    "3. **Practices** that have been professionally useful related to presentation, reproducibility, and organization relevant to the research process and research translation."
   ]
  }
 ],
 "metadata": {
  "kernelspec": {
   "display_name": "Python 3",
   "language": "python",
   "name": "python3"
  },
  "language_info": {
   "codemirror_mode": {
    "name": "ipython",
    "version": 3
   },
   "file_extension": ".py",
   "mimetype": "text/x-python",
   "name": "python",
   "nbconvert_exporter": "python",
   "pygments_lexer": "ipython3",
   "version": "3.8.5"
  },
  "varInspector": {
   "cols": {
    "lenName": 16,
    "lenType": 16,
    "lenVar": 40
   },
   "kernels_config": {
    "python": {
     "delete_cmd_postfix": "",
     "delete_cmd_prefix": "del ",
     "library": "var_list.py",
     "varRefreshCmd": "print(var_dic_list())"
    },
    "r": {
     "delete_cmd_postfix": ") ",
     "delete_cmd_prefix": "rm(",
     "library": "var_list.r",
     "varRefreshCmd": "cat(var_dic_list()) "
    }
   },
   "types_to_exclude": [
    "module",
    "function",
    "builtin_function_or_method",
    "instance",
    "_Feature"
   ],
   "window_display": false
  }
 },
 "nbformat": 4,
 "nbformat_minor": 4
}
