{
  "cells": [
    {
      "cell_type": "markdown",
      "source": [
        "# Machine learning as a metaphor for life\n",
        "> Three (mostly-serious) machine learning principles offer lessons professionally and personally.\n",
        "\n",
        "- toc: false \n",
        "- badges: false\n",
        "- comments: false\n",
        "- categories: [news]\n",
        "- author: Kyle Bradbury\n",
        "- image: images/myimage.png"
      ],
      "metadata": {}
    },
    {
      "cell_type": "markdown",
      "source": [
        "I recently had the pleasure of speaking at the commencement ceremony for the 2021 cohort of Masters of Interdisciplinary Data Science (MIDS) students. I couldn't be prouder of their accomplishments. As I teach machine learning in the program, I figured I'd share three (mostly-serious) machine learning metaphors for life: "
      ],
      "metadata": {}
    },
    {
      "cell_type": "markdown",
      "source": [
        "1.\t**Choose your cost function carefully.** In machine learning, we set cost functions to tell the algorithm what to do: minimize error in predicting housing prices, for example. What is the cost function you’re optimizing? How much do you weight your career, family, friends, and personal creativity? A colleague of mine asks a question that I value asking myself regularly: “how can you help someone else succeed today?” – make sure your personal and professional relationships are part of your cost function. Most importantly, make sure your cost function, your pursuits, are defined by what you want and designed to guide you toward the person and professional you want to become.\n",
        "\n",
        "2.\t**Use gradient descent to optimize your cost function.** Gradient descent is an iterative optimization process, taking one small step at a time, and most importantly learning from that decision as to where to step next. Improvement comes from a daily struggle to grow, bit-by-bit, one matplotlib plot or database entry at a time. Optimizing your cost function requires taking some measured chances, where we may sometimes fail; but from the failure we learn improve. Over time, those small, consistent steps lead to growth and help us to become ever-better versions of ourselves in our profession and in our personal lives.  \n",
        "\n",
        "3.\t**Hone your ability to develop effective representations of your data through dimensionality reduction.** Every experience we have visiting a new land, every idea we create to solve a problem, these are multifaceted, high dimensional experiences. These experiences have value when we share what learn, but to share, requires that we compress these sensory, cerebral, sometimes emotional experiences into a just few words or a few pictures. Anyone who has been on a job interview (or an online date) knows how challenging it can be to create an accurate representation of yourself in a few words. Communication is the act of constructing and presenting a lower dimensional version of these high dimensional thoughts or experiences. One of the most transformative tools in your toolbox is your ability to do that effectively and efficiently – a skill that will make you stand out professionally. "
      ],
      "metadata": {}
    }
  ],
  "metadata": {
    "kernelspec": {
      "display_name": "Python 3",
      "language": "python",
      "name": "python3"
    },
    "language_info": {
      "codemirror_mode": {
        "name": "ipython",
        "version": 3
      },
      "file_extension": ".py",
      "mimetype": "text/x-python",
      "name": "python",
      "nbconvert_exporter": "python",
      "pygments_lexer": "ipython3",
      "version": "3.8.5"
    },
    "varInspector": {
      "cols": {
        "lenName": 16,
        "lenType": 16,
        "lenVar": 40
      },
      "kernels_config": {
        "python": {
          "delete_cmd_postfix": "",
          "delete_cmd_prefix": "del ",
          "library": "var_list.py",
          "varRefreshCmd": "print(var_dic_list())"
        },
        "r": {
          "delete_cmd_postfix": ") ",
          "delete_cmd_prefix": "rm(",
          "library": "var_list.r",
          "varRefreshCmd": "cat(var_dic_list()) "
        }
      },
      "types_to_exclude": [
        "module",
        "function",
        "builtin_function_or_method",
        "instance",
        "_Feature"
      ],
      "window_display": false
    },
    "nteract": {
      "version": "0.28.0"
    }
  },
  "nbformat": 4,
  "nbformat_minor": 4
}